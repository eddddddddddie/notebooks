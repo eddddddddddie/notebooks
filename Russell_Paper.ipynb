{
 "cells": [
  {
   "cell_type": "code",
   "execution_count": 1,
   "metadata": {
    "collapsed": true
   },
   "outputs": [],
   "source": [
    "import numpy as np\n",
    "import matplotlib.pyplot as plt\n",
    "import math"
   ]
  },
  {
   "cell_type": "markdown",
   "metadata": {},
   "source": [
    "A simple seismic imaging exercise in python"
   ]
  },
  {
   "cell_type": "code",
   "execution_count": 2,
   "metadata": {
    "collapsed": true
   },
   "outputs": [],
   "source": [
    "fig = plt.figure(figsize=(10,5))\n",
    "ax = fig.add_subplot(111)"
   ]
  },
  {
   "cell_type": "code",
   "execution_count": 3,
   "metadata": {
    "collapsed": true
   },
   "outputs": [],
   "source": [
    "# The basic geometry\n",
    "# d = Vt/2\n",
    "# This creates an angle of tan-1(1/2) = 26.6*\n",
    "dipReflect = math.degrees(math.atan(1/2))"
   ]
  },
  {
   "cell_type": "code",
   "execution_count": 4,
   "metadata": {
    "collapsed": false
   },
   "outputs": [
    {
     "name": "stdout",
     "output_type": "stream",
     "text": [
      "26.56505117707799 [ -0.   -0.5  -1.   -1.5  -2.   -2.5  -3.   -3.5  -4.   -4.5  -5.   -5.5\n",
      "  -6.   -6.5  -7.   -7.5  -8.   -8.5  -9.   -9.5 -10.  -10.5 -11.  -11.5\n",
      " -12.  -12.5 -13.  -13.5 -14.  -14.5 -15.  -15.5 -16.  -16.5 -17.  -17.5] [  0.   1.   2.   3.   4.   5.   6.   7.   8.   9.  10.  11.  12.  13.  14.\n",
      "  15.  16.  17.  18.  19.  20.  21.  22.  23.  24.  25.  26.  27.  28.  29.\n",
      "  30.  31.  32.  33.  34.  35.] -17 35\n"
     ]
    }
   ],
   "source": [
    "y = np.linspace(0,35, num=36)\n",
    "x = -1 * (y * math.tan(math.radians(dipReflect)))\n",
    "y_len = int(y[-1])\n",
    "x_len = int(x[-1])\n",
    "\n",
    "print(dipReflect, x, y, x_len, y_len)"
   ]
  },
  {
   "cell_type": "code",
   "execution_count": 5,
   "metadata": {
    "collapsed": true
   },
   "outputs": [],
   "source": [
    "ax.plot(y, x, color='black')\n",
    "ax.xaxis.set_ticks([i for i in range(0,int(y[-1]))])\n",
    "ax.yaxis.set_ticks([i for i in range(int(x[-1]),0)])\n",
    "ax.grid(True)"
   ]
  },
  {
   "cell_type": "code",
   "execution_count": 6,
   "metadata": {
    "collapsed": true
   },
   "outputs": [],
   "source": [
    "#Where is the surface?\n",
    "surface = 0\n",
    "\n",
    "#Where is the origin?\n",
    "origin = 0\n",
    "\n",
    "# Set out the seismic experiment equipment\n",
    "source = origin + 10\n",
    "receiver = source + 20\n",
    "\n",
    "# Where is the mid-point?\n",
    "mid = receiver - source"
   ]
  },
  {
   "cell_type": "code",
   "execution_count": 7,
   "metadata": {
    "collapsed": false
   },
   "outputs": [
    {
     "data": {
      "text/plain": [
       "<matplotlib.text.Text at 0x78e7f98>"
      ]
     },
     "execution_count": 7,
     "metadata": {},
     "output_type": "execute_result"
    }
   ],
   "source": [
    "# Mark the origin\n",
    "ax.plot([origin], [surface], marker='o')\n",
    "ax.text(1, 0.5, s='O=0', alpha=1.0, ha='right', va='center',\n",
    "            fontsize=14,)"
   ]
  },
  {
   "cell_type": "code",
   "execution_count": 8,
   "metadata": {
    "collapsed": false
   },
   "outputs": [
    {
     "data": {
      "text/plain": [
       "<matplotlib.text.Text at 0x79596a0>"
      ]
     },
     "execution_count": 8,
     "metadata": {},
     "output_type": "execute_result"
    }
   ],
   "source": [
    "# Next, put a source (labeled S) 10 units to the right of the origin\n",
    "ax.plot([source], [surface], marker='o', color='b')\n",
    "ax.text(source+3, surface+0.5, s='S=Shot', alpha=1.0, ha='right', va='center',\n",
    "            fontsize=14, color='b')"
   ]
  },
  {
   "cell_type": "code",
   "execution_count": 9,
   "metadata": {
    "collapsed": false
   },
   "outputs": [
    {
     "data": {
      "text/plain": [
       "<matplotlib.text.Text at 0x78bafd0>"
      ]
     },
     "execution_count": 9,
     "metadata": {},
     "output_type": "execute_result"
    }
   ],
   "source": [
    "# and a reciever (labeled R) 20 units to the right of the source\n",
    "ax.plot([receiver], [surface], marker='o', color='r')\n",
    "ax.text(receiver+5, surface+0.5, s='R=Receiver', alpha=1.0, ha='right', va='center',\n",
    "            fontsize=14, color='r')"
   ]
  },
  {
   "cell_type": "code",
   "execution_count": 10,
   "metadata": {
    "collapsed": false
   },
   "outputs": [
    {
     "data": {
      "text/plain": [
       "<matplotlib.text.Text at 0x796f978>"
      ]
     },
     "execution_count": 10,
     "metadata": {},
     "output_type": "execute_result"
    }
   ],
   "source": [
    "# label the midpoint (half way between the S and R equals M)\n",
    "ax.plot([mid], [surface], marker='o', color='g')\n",
    "ax.text(mid+5, surface+0.5, s='M=Midpoint', alpha=1.0, ha='right', va='center',\n",
    "            fontsize=14, color='g')"
   ]
  },
  {
   "cell_type": "code",
   "execution_count": 11,
   "metadata": {
    "collapsed": false
   },
   "outputs": [
    {
     "data": {
      "text/plain": [
       "[<matplotlib.lines.Line2D at 0x78e7d68>]"
      ]
     },
     "execution_count": 11,
     "metadata": {},
     "output_type": "execute_result"
    }
   ],
   "source": [
    "# Mark the origin\n",
    "ax.plot([origin], [surface], marker='o', color='black')"
   ]
  },
  {
   "cell_type": "code",
   "execution_count": 13,
   "metadata": {
    "collapsed": false
   },
   "outputs": [
    {
     "data": {
      "text/plain": [
       "<matplotlib.text.Text at 0x7990e10>"
      ]
     },
     "execution_count": 13,
     "metadata": {},
     "output_type": "execute_result"
    }
   ],
   "source": [
    "# Add final annotation to match paper\n",
    "ax.text(origin+5, surface+0.4, s='Surface', alpha=1.0, ha='right', va='center',\n",
    "            fontsize=14)\n",
    "ax.text(origin+22, surface-8.5, s='Dipping Reflector', alpha=1.0, ha='right', va='center',\n",
    "            fontsize=14, rotation=360-dipReflect)"
   ]
  },
  {
   "cell_type": "code",
   "execution_count": 16,
   "metadata": {
    "collapsed": true
   },
   "outputs": [],
   "source": [
    "# Show Figure 1\n",
    "plt.show()"
   ]
  },
  {
   "cell_type": "code",
   "execution_count": null,
   "metadata": {
    "collapsed": true
   },
   "outputs": [],
   "source": []
  }
 ],
 "metadata": {
  "kernelspec": {
   "display_name": "Python 3",
   "language": "python",
   "name": "python3"
  },
  "language_info": {
   "codemirror_mode": {
    "name": "ipython",
    "version": 3
   },
   "file_extension": ".py",
   "mimetype": "text/x-python",
   "name": "python",
   "nbconvert_exporter": "python",
   "pygments_lexer": "ipython3",
   "version": "3.5.1"
  }
 },
 "nbformat": 4,
 "nbformat_minor": 0
}
